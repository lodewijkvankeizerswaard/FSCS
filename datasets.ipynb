{
 "cells": [
  {
   "cell_type": "code",
   "execution_count": null,
   "metadata": {},
   "outputs": [],
   "source": [
    "from data import *\n",
    "import matplotlib.pyplot as plt\n",
    "\n",
    "# Visualizing the normalized continous columns of Adult\n",
    "dat =get_train_validation_set(\"adult\")\n",
    "train = dat[0]._table\n",
    "\n",
    "for column in train.columns[:7]:\n",
    "    print(column)\n",
    "    train[column].plot(kind='hist')\n",
    "    plt.show()"
   ]
  }
 ],
 "metadata": {
  "interpreter": {
   "hash": "4c13e60363329cee5a1fa26e8f162c7e9d7c4e5aed1dff4ee24ae0c7cb330a95"
  },
  "kernelspec": {
   "display_name": "Python 3.9.9 64-bit ('FSCS': conda)",
   "language": "python",
   "name": "python3"
  },
  "language_info": {
   "codemirror_mode": {
    "name": "ipython",
    "version": 3
   },
   "file_extension": ".py",
   "mimetype": "text/x-python",
   "name": "python",
   "nbconvert_exporter": "python",
   "pygments_lexer": "ipython3",
   "version": "3.9.9"
  },
  "orig_nbformat": 4
 },
 "nbformat": 4,
 "nbformat_minor": 2
}
