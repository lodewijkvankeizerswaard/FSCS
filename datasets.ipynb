{
 "cells": [
  {
   "cell_type": "code",
   "execution_count": null,
   "metadata": {},
   "outputs": [],
   "source": [
    "from data import *\n",
    "import matplotlib.pyplot as plt\n",
    "\n",
    "# Visualizing the normalized continous columns of Adult\n",
    "dat =get_train_validation_set(\"adult\")\n",
    "train = dat[0]._table\n",
    "\n",
    "for column in train.columns[:7]:\n",
    "    print(column)\n",
    "    train[column].plot(kind='hist')\n",
    "    plt.show()"
   ]
  }
 ],
 "metadata": {
  "language_info": {
   "name": "plaintext"
  },
  "orig_nbformat": 4
 },
 "nbformat": 4,
 "nbformat_minor": 2
}
