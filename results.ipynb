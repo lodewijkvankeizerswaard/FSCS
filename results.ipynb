{
 "cells": [
  {
   "cell_type": "code",
   "execution_count": null,
   "metadata": {},
   "outputs": [],
   "source": [
    "import os \n",
    "import torch\n",
    "from train_model import test_model, set_seed, get_test_set\n",
    "from model import FairClassifier\n",
    "\n",
    "import numpy as np\n",
    "import matplotlib.pyplot as plt\n",
    "plt.ioff()\n",
    "\n",
    "device = torch.device(\"cuda:0\") if torch.cuda.is_available() else torch.device(\"cpu\")"
   ]
  },
  {
   "cell_type": "code",
   "execution_count": null,
   "metadata": {},
   "outputs": [],
   "source": [
    "BATCH_SIZE = 32\n",
    "NUM_WORKERS = 4"
   ]
  },
  {
   "cell_type": "code",
   "execution_count": null,
   "metadata": {},
   "outputs": [],
   "source": [
    "def evaluate(dataset, lmbda, verbose=False):\n",
    "    \"\"\"\n",
    "    Runs tests for a dataset and given lambda for all present seeds\n",
    "\n",
    "    :params:\n",
    "    lmbda: specify lambda value used during training (directory has to be present)\n",
    "    verbose: specify if results, including images, should be outputted per seed\n",
    "    \"\"\"\n",
    "\n",
    "    acc_scores, auc_scores, abc_scores = [], [], []\n",
    "    path = os.path.join(*['models', dataset, str(lmbda)])\n",
    "    for model_name in os.listdir(path):\n",
    "        seed = int(os.path.splitext(model_name)[0])\n",
    "        model = FairClassifier(dataset).to(device)\n",
    "        model.load_state_dict(torch.load(os.path.join(path, model_name), map_location=device), strict=False)\n",
    "\n",
    "        test_set = get_test_set(dataset)\n",
    "        test_loader = torch.utils.data.DataLoader(test_set, batch_size=BATCH_SIZE, num_workers=NUM_WORKERS)\n",
    "\n",
    "        test_acc_score, area_under_curve, area_between_curves_val, \\\n",
    "        margin_plot, precision_plot, ac_plot = test_model(model, test_loader, device, seed, progress_bar=True)\n",
    "\n",
    "        acc_scores.append(test_acc_score)\n",
    "        auc_scores.append(area_under_curve)\n",
    "        abc_scores.append(area_between_curves_val)\n",
    "\n",
    "        if verbose:\n",
    "            plt.show()\n",
    "            print(\"Seed:\", seed)\n",
    "            print(\"Test Accuracy:\", test_acc_score)\n",
    "            print(\"Area Under Curve:\", area_under_curve)\n",
    "            print(\"Area Between Curve:\", area_between_curves_val)\n",
    "\n",
    "    acc_scores = np.array(acc_scores)\n",
    "    auc_scores = np.array(auc_scores)\n",
    "    abc_scores = np.array(abc_scores)\n",
    "\n",
    "    if verbose:\n",
    "        print(\"-------------------------------\")\n",
    "    print(\"Mean Test Accuracy:\", acc_scores.mean(), \"std:\", acc_scores.std())\n",
    "    print(\"Mean Area Under Curve:\", auc_scores.mean(), \"std:\", auc_scores.std())\n",
    "    print(\"Mean Area Between Curve:\", abc_scores.mean(), \"std:\", abc_scores.std())"
   ]
  },
  {
   "cell_type": "markdown",
   "metadata": {},
   "source": [
    "## Adult"
   ]
  },
  {
   "cell_type": "code",
   "execution_count": null,
   "metadata": {},
   "outputs": [],
   "source": [
    "evaluate('adult', lmbda=0.7)"
   ]
  },
  {
   "cell_type": "markdown",
   "metadata": {},
   "source": [
    "## CheXpert"
   ]
  },
  {
   "cell_type": "code",
   "execution_count": null,
   "metadata": {},
   "outputs": [],
   "source": [
    "evaluate('chexpert')"
   ]
  },
  {
   "cell_type": "markdown",
   "metadata": {},
   "source": [
    "## Celeba"
   ]
  },
  {
   "cell_type": "code",
   "execution_count": null,
   "metadata": {},
   "outputs": [],
   "source": [
    "evaluate('celeba')"
   ]
  }
 ],
 "metadata": {
  "interpreter": {
   "hash": "4c13e60363329cee5a1fa26e8f162c7e9d7c4e5aed1dff4ee24ae0c7cb330a95"
  },
  "kernelspec": {
   "display_name": "Python 3.9.9 64-bit ('FSCS': conda)",
   "language": "python",
   "name": "python3"
  },
  "language_info": {
   "codemirror_mode": {
    "name": "ipython",
    "version": 3
   },
   "file_extension": ".py",
   "mimetype": "text/x-python",
   "name": "python",
   "nbconvert_exporter": "python",
   "pygments_lexer": "ipython3",
   "version": "3.9.9"
  },
  "orig_nbformat": 4
 },
 "nbformat": 4,
 "nbformat_minor": 2
}
