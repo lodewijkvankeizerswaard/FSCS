{
 "cells": [
  {
   "cell_type": "code",
   "execution_count": 2,
   "metadata": {},
   "outputs": [],
   "source": [
    "import os \n",
    "import torch\n",
    "from train_model import test_model, set_seed, get_test_set\n",
    "from evaluation import evaluate\n",
    "from model import FairClassifier\n",
    "\n",
    "import numpy as np\n",
    "import matplotlib.pyplot as plt\n",
    "plt.ioff()\n",
    "\n",
    "device = torch.device(\"cuda:0\") if torch.cuda.is_available() else torch.device(\"cpu\")"
   ]
  },
  {
   "cell_type": "code",
   "execution_count": 7,
   "metadata": {},
   "outputs": [],
   "source": [
    "# Change these variables to suit your setup and output detail level\n",
    "BATCH_SIZE = 32\n",
    "NUM_WORKERS = 4\n",
    "VERBOSE=False"
   ]
  },
  {
   "cell_type": "markdown",
   "metadata": {},
   "source": [
    "## Adult"
   ]
  },
  {
   "cell_type": "code",
   "execution_count": 5,
   "metadata": {},
   "outputs": [
    {
     "name": "stdout",
     "output_type": "stream",
     "text": [
      "Mean Test Accuracy: 0.8261713471413478 std: 0.0010921653409446152\n",
      "Mean Area Under Curve: 0.934794300980243 std: 0.00021302323051277525\n",
      "Mean Area Between Curve: 0.055644520243890876 std: 0.001148019457454722\n",
      "Mean Test Accuracy: 0.8177440357730769 std: 0.011209850452881542\n",
      "Mean Area Under Curve: 0.9318434155212079 std: 0.006249715393062878\n",
      "Mean Area Between Curve: 0.06518844712767664 std: 0.010841714944130403\n"
     ]
    }
   ],
   "source": [
    "evaluate('adult', lmbda=0, verbose=VERBOSE)\n",
    "evaluate('adult', lmbda=0.7, verbose=VERBOSE)"
   ]
  },
  {
   "cell_type": "markdown",
   "metadata": {},
   "source": [
    "## CheXpert"
   ]
  },
  {
   "cell_type": "code",
   "execution_count": 8,
   "metadata": {},
   "outputs": [
    {
     "name": "stderr",
     "output_type": "stream",
     "text": [
      "/home/lo/git/FACT/evaluation.py:147: RuntimeWarning: More than 20 figures have been opened. Figures created through the pyplot interface (`matplotlib.pyplot.figure`) are retained until explicitly closed and may consume too much memory. (To control this warning, see the rcParam `figure.max_open_warning`).\n",
      "  fig = plt.figure()\n"
     ]
    },
    {
     "name": "stdout",
     "output_type": "stream",
     "text": [
      "Mean Test Accuracy: 0.7564102564102564 std: 0.012580855934939947\n",
      "Mean Area Under Curve: 0.8336719462231752 std: 0.013065999406451227\n",
      "Mean Area Between Curve: 0.07528914094780813 std: 0.035522439801656196\n",
      "Mean Test Accuracy: 0.7606837606837606 std: 0.0\n",
      "Mean Area Under Curve: 0.8413566836807633 std: 0.02173395557828267\n",
      "Mean Area Between Curve: 0.06992735463121544 std: 0.0009043604814694753\n"
     ]
    }
   ],
   "source": [
    "evaluate('chexpert', lmbda=0, verbose=VERBOSE)\n",
    "evaluate('chexpert', lmbda=0.7, verbose=VERBOSE)"
   ]
  },
  {
   "cell_type": "markdown",
   "metadata": {},
   "source": [
    "## Celeba"
   ]
  },
  {
   "cell_type": "code",
   "execution_count": 9,
   "metadata": {},
   "outputs": [
    {
     "name": "stdout",
     "output_type": "stream",
     "text": [
      "Mean Test Accuracy: 0.9467738703536719 std: 0.005836088568279718\n",
      "Mean Area Under Curve: 0.9321489742784688 std: 0.03980516860548278\n",
      "Mean Area Between Curve: 0.010592193536561077 std: 0.00018373440705158825\n",
      "Mean Test Accuracy: 0.9548892896503356 std: 0.00032561867548341894\n",
      "Mean Area Under Curve: 0.9954199510697641 std: 0.00011787846339039731\n",
      "Mean Area Between Curve: 0.0064679006190943925 std: 0.0001357850432408326\n"
     ]
    }
   ],
   "source": [
    "evaluate('celeba', lmbda=0, verbose=VERBOSE)\n",
    "evaluate('celeba', lmbda=0.7, verbose=VERBOSE)"
   ]
  },
  {
   "cell_type": "code",
   "execution_count": null,
   "metadata": {},
   "outputs": [],
   "source": []
  }
 ],
 "metadata": {
  "interpreter": {
   "hash": "4c13e60363329cee5a1fa26e8f162c7e9d7c4e5aed1dff4ee24ae0c7cb330a95"
  },
  "kernelspec": {
   "display_name": "Python 3.9.9 64-bit ('FSCS': conda)",
   "language": "python",
   "name": "python3"
  },
  "language_info": {
   "codemirror_mode": {
    "name": "ipython",
    "version": 3
   },
   "file_extension": ".py",
   "mimetype": "text/x-python",
   "name": "python",
   "nbconvert_exporter": "python",
   "pygments_lexer": "ipython3",
   "version": "3.9.9"
  },
  "orig_nbformat": 4
 },
 "nbformat": 4,
 "nbformat_minor": 2
}
