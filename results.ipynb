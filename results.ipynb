{
 "cells": [
  {
   "cell_type": "code",
   "execution_count": null,
   "metadata": {},
   "outputs": [],
   "source": [
    "import os \n",
    "import torch\n",
    "from train_model import test_model, set_seed, get_test_set\n",
    "from model import FairClassifier\n",
    "\n",
    "device = torch.device(\"cuda:0\") if torch.cuda.is_available() else torch.device(\"cpu\")\n",
    "set_seed(42)\n",
    "\n",
    "LAMBDA = 0.7"
   ]
  },
  {
   "cell_type": "code",
   "execution_count": null,
   "metadata": {},
   "outputs": [],
   "source": [
    "BATCH_SIZE = 32\n",
    "NUM_WORKERS = 4"
   ]
  },
  {
   "cell_type": "code",
   "execution_count": null,
   "metadata": {},
   "outputs": [],
   "source": [
    "def evaluate(dataset):\n",
    "    \n",
    "    for model_name in os.listdir(dataset):\n",
    "        model = FairClassifier(dataset).to(device)\n",
    "        model.load_state_dict(torch.load(os.path.join(dataset, model_name)), strict=False)\n",
    "\n",
    "        test_set = get_test_set(dataset)\n",
    "        test_loader = torch.utils.data.DataLoader(test_set, batch_size=BATCH_SIZE, num_workers=NUM_WORKERS)\n",
    "\n",
    "        test_acc, area_under_curve, area_between_curves_val, \\\n",
    "        margin_plot, precision_plot, ac_plot = test_model(model, test_loader, device)\n",
    "\n",
    "        plt.show()\n",
    "\n",
    "        print(\"Test Accuracy:\", test_acc)\n",
    "        print(\"Area Under Curve:\", area_under_curve)\n",
    "        print(\"Area Between Curve:\", area_between_curves_val)"
   ]
  },
  {
   "cell_type": "markdown",
   "metadata": {},
   "source": [
    "## Adult"
   ]
  },
  {
   "cell_type": "code",
   "execution_count": null,
   "metadata": {},
   "outputs": [],
   "source": [
    "evaluate('adult')"
   ]
  },
  {
   "cell_type": "markdown",
   "metadata": {},
   "source": [
    "## CheXpert"
   ]
  },
  {
   "cell_type": "code",
   "execution_count": null,
   "metadata": {},
   "outputs": [],
   "source": [
    "evaluate('chexpert')"
   ]
  },
  {
   "cell_type": "markdown",
   "metadata": {},
   "source": [
    "## Celeba"
   ]
  },
  {
   "cell_type": "code",
   "execution_count": null,
   "metadata": {},
   "outputs": [],
   "source": [
    "evaluate('celeba')"
   ]
  }
 ],
 "metadata": {
  "interpreter": {
   "hash": "4c13e60363329cee5a1fa26e8f162c7e9d7c4e5aed1dff4ee24ae0c7cb330a95"
  },
  "kernelspec": {
   "display_name": "Python 3.9.9 64-bit ('FSCS': conda)",
   "language": "python",
   "name": "python3"
  },
  "language_info": {
   "codemirror_mode": {
    "name": "ipython",
    "version": 3
   },
   "file_extension": ".py",
   "mimetype": "text/x-python",
   "name": "python",
   "nbconvert_exporter": "python",
   "pygments_lexer": "ipython3",
   "version": "3.9.9"
  },
  "orig_nbformat": 4
 },
 "nbformat": 4,
 "nbformat_minor": 2
}
